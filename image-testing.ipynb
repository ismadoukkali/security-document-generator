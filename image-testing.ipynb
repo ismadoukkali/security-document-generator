{
 "cells": [
  {
   "cell_type": "code",
   "execution_count": 1,
   "metadata": {},
   "outputs": [],
   "source": [
    "import os\n",
    "import zipfile\n",
    "\n",
    "def zip_all_files_in_directory(directory_path, output_zip_file):\n",
    "    # Create a ZIP file\n",
    "    with zipfile.ZipFile(output_zip_file, 'w', zipfile.ZIP_DEFLATED) as zipf:\n",
    "        # Walk through all files in the directory\n",
    "        for root, dirs, files in os.walk(directory_path):\n",
    "            for file in files:\n",
    "                # Create the full file path\n",
    "                file_path = os.path.join(root, file)\n",
    "                # Add the file to the ZIP file\n",
    "                zipf.write(file_path, os.path.relpath(file_path, directory_path))\n",
    "\n",
    "# Example usage\n",
    "directory_path = 'generated_documents'  # Replace with your directory path\n",
    "output_zip_file = 'output.zip'  # Name of the output ZIP file\n",
    "zip_all_files_in_directory(directory_path, output_zip_file)\n"
   ]
  },
  {
   "cell_type": "code",
   "execution_count": 3,
   "metadata": {},
   "outputs": [
    {
     "name": "stdout",
     "output_type": "stream",
     "text": [
      "B07PDS3HB4-English.pdf\n"
     ]
    }
   ],
   "source": [
    "filename = \"generated_documents/B07PDS3HB4-English.pdf\"\n",
    "file = filename.split(\"generated_documents/\")[1]\n",
    "print(file)"
   ]
  }
 ],
 "metadata": {
  "kernelspec": {
   "display_name": "Python 3",
   "language": "python",
   "name": "python3"
  },
  "language_info": {
   "codemirror_mode": {
    "name": "ipython",
    "version": 3
   },
   "file_extension": ".py",
   "mimetype": "text/x-python",
   "name": "python",
   "nbconvert_exporter": "python",
   "pygments_lexer": "ipython3",
   "version": "3.11.6"
  }
 },
 "nbformat": 4,
 "nbformat_minor": 2
}
