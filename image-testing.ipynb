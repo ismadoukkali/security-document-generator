{
 "cells": [
  {
   "cell_type": "code",
   "execution_count": 12,
   "metadata": {},
   "outputs": [
    {
     "data": {
      "text/plain": [
       "True"
      ]
     },
     "execution_count": 12,
     "metadata": {},
     "output_type": "execute_result"
    }
   ],
   "source": [
    "import pdfkit\n",
    "\n",
    "options = {\n",
    "    'encoding': \"UTF-8\"\n",
    "}\n",
    "\n",
    "html_content = \"\"\"\n",
    "<html>\n",
    "<head>\n",
    "    <style>\n",
    "        img {\n",
    "            width: 40%; /* or any custom size */\n",
    "            height: auto;\n",
    "        }\n",
    "    </style>\n",
    "</head>\n",
    "<body>\n",
    "    <!-- Embed your image here -->\n",
    "    <img src=\"https://i.postimg.cc/DZwj5rnq/Logo-Altadex-1.png\">\n",
    "    <p>Your content goes here...</p>\n",
    "</body>\n",
    "</html>\n",
    "\"\"\"\n",
    "\n",
    "\n",
    "# Specify the output PDF file name\n",
    "output_filename = \"output.pdf\"\n",
    "\n",
    "# Convert the HTML content to PDF\n",
    "pdfkit.from_string(html_content, output_filename, options=options)\n",
    "\n"
   ]
  }
 ],
 "metadata": {
  "kernelspec": {
   "display_name": "Python 3",
   "language": "python",
   "name": "python3"
  },
  "language_info": {
   "codemirror_mode": {
    "name": "ipython",
    "version": 3
   },
   "file_extension": ".py",
   "mimetype": "text/x-python",
   "name": "python",
   "nbconvert_exporter": "python",
   "pygments_lexer": "ipython3",
   "version": "3.11.6"
  }
 },
 "nbformat": 4,
 "nbformat_minor": 2
}
